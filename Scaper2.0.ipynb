{
 "cells": [
  {
   "cell_type": "code",
   "execution_count": null,
   "metadata": {},
   "outputs": [],
   "source": [
    "from bs4 import BeautifulSoup\n",
    "#import requests\n",
    "from urllib.request import Request, urlopen\n",
    "import numpy as np\n",
    "import time\n",
    "import re\n",
    "import os"
   ]
  },
  {
   "cell_type": "code",
   "execution_count": null,
   "metadata": {},
   "outputs": [],
   "source": [
    "SITENAME = \"metacritic\"\n",
    "SITEMAP_SEED = 'http://www.metacritic.com/sitemap/Video-game/3/sitemap.xml'\n",
    "PAGES_SAVE_DIR = \"pages-metacritic\"\n",
    "TABLES_SAVE_DIR = \"tables-metacritic\"\n",
    "TEMPLATE_DEEP = 3\n",
    "IGNORE_LAST_NTH = 1"
   ]
  },
  {
   "cell_type": "code",
   "execution_count": null,
   "metadata": {},
   "outputs": [],
   "source": [
    "#r = requests.get(SITEMAP_SEED) #URL della sitemap del sito target\n",
    "#xml = r.text\n",
    "xml = open(\".\\\\sitemapmeta.xml\").read()\n",
    "soup = BeautifulSoup(xml)\n",
    "sitemapTags = soup.find_all(\"loc\")\n",
    "pages = np.array([])\n",
    "\n",
    "for page in sitemapTags: \n",
    "    pages  = np.append(pages, page.string)\n",
    "    \n"
   ]
  },
  {
   "cell_type": "code",
   "execution_count": null,
   "metadata": {},
   "outputs": [],
   "source": [
    "pages"
   ]
  },
  {
   "cell_type": "code",
   "execution_count": null,
   "metadata": {},
   "outputs": [],
   "source": [
    "import pandas as pd\n",
    "pd.options.display.max_colwidth = 100\n",
    "\n",
    "\n",
    "df = pd.DataFrame(data=pages)\n",
    "df = df.loc[df[0].str.contains(\"http://www\\..+\\.\\w+(/[^/]+){\"+str((TEMPLATE_DEEP+2))+\"}$\" , regex = True)]\n",
    "\n",
    "df"
   ]
  },
  {
   "cell_type": "code",
   "execution_count": null,
   "metadata": {},
   "outputs": [],
   "source": [
    "page_dir = \".\\\\\"+PAGES_SAVE_DIR+\"\\\\\"\n",
    "if not os.path.exists(page_dir):\n",
    "    os.makedirs(page_dir)\n",
    "    \n",
    "t_page_dir = \".\\\\\"+TABLES_SAVE_DIR+\"\\\\\"\n",
    "if not os.path.exists(t_page_dir):\n",
    "    os.makedirs(t_page_dir)"
   ]
  },
  {
   "cell_type": "code",
   "execution_count": null,
   "metadata": {},
   "outputs": [],
   "source": [
    "index = 0\n",
    "page_ref_table = []\n",
    "page_analized = []\n",
    "for page in df[0]:    \n",
    "    page = re.sub(\"(/[^/]+){\"+str(IGNORE_LAST_NTH)+\"}$\" , \"\" , page)\n",
    "    for p in range(0,TEMPLATE_DEEP):\n",
    "        page_template = re.sub(\"(/[^/]+){\"+str(p)+\"}$\" , \"\" , page)\n",
    "        if page_template not in page_analized :\n",
    "            req = Request(page_template, headers={'User-Agent': 'Mozilla/5.0'})\n",
    "            web_byte = urlopen(req).read()\n",
    "            html = web_byte.decode('utf-8')\n",
    "            #resp = requests.get(page_template)\n",
    "            #html = resp.content.decode(\"utf-8\")\n",
    "            filepath = page_dir+str(index)+'.html'\n",
    "            f = open(filepath, 'w' , encoding='utf-8')\n",
    "            f.write(html)\n",
    "            f.close\n",
    "            time.sleep(0.5) #intervallo di tempo per non incorrere in filtri anti DDOS\n",
    "            page_ref_table.append([page_template , p , filepath])\n",
    "            page_analized.append(page_template)\n",
    "            print(\"saved \"+filepath)\n",
    "            print()\n",
    "            index += 1"
   ]
  },
  {
   "cell_type": "code",
   "execution_count": null,
   "metadata": {},
   "outputs": [],
   "source": [
    "pages_array = np.array(page_ref_table)    \n",
    "np.save(t_page_dir+\"pages.npy\" , pages_array)"
   ]
  },
  {
   "cell_type": "code",
   "execution_count": null,
   "metadata": {},
   "outputs": [],
   "source": [
    "a = np.load(t_page_dir+\"pages.npy\")"
   ]
  }
 ],
 "metadata": {
  "kernelspec": {
   "display_name": "Python 3",
   "language": "python",
   "name": "python3"
  },
  "language_info": {
   "codemirror_mode": {
    "name": "ipython",
    "version": 3
   },
   "file_extension": ".py",
   "mimetype": "text/x-python",
   "name": "python",
   "nbconvert_exporter": "python",
   "pygments_lexer": "ipython3",
   "version": "3.5.6"
  }
 },
 "nbformat": 4,
 "nbformat_minor": 2
}
