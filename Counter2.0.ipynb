{
 "cells": [
  {
   "cell_type": "code",
   "execution_count": null,
   "metadata": {},
   "outputs": [],
   "source": [
    "from bs4 import BeautifulSoup\n",
    "import sys\n",
    "import glob\n",
    "import numpy as np\n",
    "import pandas as pd\n",
    "\n",
    "stats = []\n",
    "\n",
    "pages = np.load(\".\\\\tables-rotten\\\\pages.npy\")\n",
    "\n",
    "df = pd.DataFrame(data=pages)\n",
    "df = df.drop_duplicates(subset=0, keep=\"last\")\n",
    "pages = df.values\n",
    "\n",
    "DICT = pd.DataFrame(columns = [\"url\" , \"template\"])\n",
    "\n",
    "cc=0\n",
    "for p in pages:\n",
    "    with open(p[2], 'r' , encoding=\"UTF-8\") as f:\n",
    "        webpage = f.read()\n",
    "        soup = BeautifulSoup(webpage)      \n",
    "        tags_occurr = []\n",
    "        for tag in soup.findAll():\n",
    "            tags_occurr.append(tag.name)        \n",
    "        tags = pd.DataFrame(data=tags_occurr)\n",
    "        tags = tags.groupby([0])\n",
    "        grouped_tags = tags.size()\n",
    "        grouped_tags\n",
    "        norm = grouped_tags.div(grouped_tags.sum(axis=0), axis=0)\n",
    "        DICT.loc[cc] = np.zeros(DICT.shape[1])\n",
    "        DICT.loc[cc , \"url\"] = p[0]\n",
    "        DICT.loc[cc , \"template\"] = p[1]\n",
    "        for i in norm.index:\n",
    "            if i in DICT.columns:\n",
    "                DICT.loc[cc , i] = norm[i]\n",
    "            else:\n",
    "                DICT.insert(2, i, 0)\n",
    "                DICT.loc[cc , i] = norm[i]\n",
    "    cc += 1\n",
    "    print(cc)\n",
    "    if cc > 10 :\n",
    "        break"
   ]
  },
  {
   "cell_type": "code",
   "execution_count": null,
   "metadata": {},
   "outputs": [],
   "source": [
    "DICT"
   ]
  },
  {
   "cell_type": "code",
   "execution_count": null,
   "metadata": {},
   "outputs": [],
   "source": []
  }
 ],
 "metadata": {
  "kernelspec": {
   "display_name": "Python 3",
   "language": "python",
   "name": "python3"
  },
  "language_info": {
   "codemirror_mode": {
    "name": "ipython",
    "version": 3
   },
   "file_extension": ".py",
   "mimetype": "text/x-python",
   "name": "python",
   "nbconvert_exporter": "python",
   "pygments_lexer": "ipython3",
   "version": "3.5.6"
  }
 },
 "nbformat": 4,
 "nbformat_minor": 2
}
