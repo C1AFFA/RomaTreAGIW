{
 "cells": [
  {
   "cell_type": "markdown",
   "metadata": {},
   "source": [
    "## Analisi delle pagine scaricate"
   ]
  },
  {
   "cell_type": "code",
   "execution_count": null,
   "metadata": {},
   "outputs": [],
   "source": [
    "from bs4 import BeautifulSoup\n",
    "import sys\n",
    "import glob\n",
    "import numpy as np\n",
    "import pandas as pd\n",
    "\n",
    "stats = []\n",
    "\n",
    "pages = np.load(\".\\\\tables-rotten\\\\pages.npy\")\n",
    "\n",
    "df = pd.DataFrame(data=pages)\n",
    "df = df.drop_duplicates(subset=0, keep=\"last\")\n",
    "pages = df.values\n",
    "\n",
    "i=0\n",
    "for p in pages:\n",
    "    with open(p[2], 'r' , encoding=\"UTF-8\") as f:\n",
    "        webpage = f.read()\n",
    "        soup = BeautifulSoup(webpage)    \n",
    "        [x.extract() for x in soup.findAll('script')]\n",
    "        [x.extract() for x in soup.findAll('style')]\n",
    "        countDIV = soup.findAll(\"div\")    \n",
    "        countP = soup.findAll(\"p\")\n",
    "        countLI = soup.findAll(\"li\") \n",
    "        count = soup.findAll()\n",
    "        url = p[0]\n",
    "        template_type = p[1]\n",
    "        #url = soup.findAll(\"link\", {\"rel\" : \"canonical\"})# mi estraggo l'url dalla pagina; potrebbe non funzionare su tutti i siti\n",
    "        #coeff = len(count)/(len(count)+len(tokens))\n",
    "        coeff = len(countDIV)/(len(count))\n",
    "        temp = [len(countDIV),len(countLI),len(countP) , coeff , template_type , url]\n",
    "        print(temp)\n",
    "        #temp = [len(countP),len(count) , url[0].get(\"href\")]\n",
    "        stats.append(temp)\n",
    "\n",
    "        #i += 1\n",
    "        #if( i%250 == 0):\n",
    "            #    print(i)"
   ]
  },
  {
   "cell_type": "code",
   "execution_count": null,
   "metadata": {},
   "outputs": [],
   "source": [
    "pages = np.load(\".\\\\tables-rotten\\\\pages.npy\")\n",
    "\n",
    "df = pd.DataFrame(data=pages)\n",
    "df = df.drop_duplicates(subset=0, keep=\"last\")\n",
    "pages = df.values\n",
    "pages"
   ]
  },
  {
   "cell_type": "code",
   "execution_count": null,
   "metadata": {},
   "outputs": [],
   "source": [
    "import pandas as pd\n",
    "DICT = np.array([])\n",
    "with open('.\\\\pages-rotten\\\\0-2.html', 'r' , encoding=\"UTF-8\") as f:\n",
    "    webpage = f.read()\n",
    "    soup = BeautifulSoup(webpage)      \n",
    "    tags_occurr = []\n",
    "    for tag in soup.findAll():\n",
    "        tags_occurr.append(tag.name)        \n",
    "    tags = pd.DataFrame(data=tags_occurr)\n",
    "    tags = tags.groupby([0])\n",
    "    grouped_tags = tags.size()\n",
    "    grouped_tags\n",
    "    norm = grouped_tags.div(grouped_tags.sum(axis=0), axis=0)\n",
    "    test = pd.DataFrame(columns = [\"url\" , \"template\"])\n",
    "    test.loc[0] = np.zeros(2)\n",
    "    for i in norm.index:\n",
    "        if i in test.columns:\n",
    "            test.loc[0][i] = norm[i]\n",
    "        else:\n",
    "            test.insert(2, i, 0)\n",
    "            test.loc[0 , i] = norm[i]\n"
   ]
  },
  {
   "cell_type": "code",
   "execution_count": null,
   "metadata": {},
   "outputs": [],
   "source": [
    "test"
   ]
  },
  {
   "cell_type": "code",
   "execution_count": null,
   "metadata": {},
   "outputs": [],
   "source": [
    "import numpy as np\n",
    "\n",
    "npstats = np.array(stats)\n",
    "np.save(\"rotten2000test.npy\" , npstats)\n",
    "#npstats = np.load(\"test0-6000.npy\")\n"
   ]
  },
  {
   "cell_type": "markdown",
   "metadata": {},
   "source": [
    "## Conta delle occorrenze nella quantità dei DIV"
   ]
  },
  {
   "cell_type": "code",
   "execution_count": null,
   "metadata": {},
   "outputs": [],
   "source": [
    "occurrencies = np.zeros(2000)\n",
    "maxm = 0\n",
    "for row in npstats :\n",
    "    #if(int(row[0]) > maxm):\n",
    "        #maxm = int(row[0])\n",
    "    occurrencies[int(row[0])] += 1 \n"
   ]
  },
  {
   "cell_type": "code",
   "execution_count": null,
   "metadata": {},
   "outputs": [],
   "source": [
    "import matplotlib.pyplot as plt\n",
    "\n",
    "#plt.hist(results_2D[:100,:])  # arguments are passed to np.histogram\n",
    "plt.bar(range(2000), occurrencies)\n",
    "plt.title(\"Istogramma della conta dei DIV\")\n",
    "plt.show()"
   ]
  },
  {
   "cell_type": "markdown",
   "metadata": {},
   "source": [
    "## Conta delle occorrenze nel rapporto tra DIV e conta totale dei tag"
   ]
  },
  {
   "cell_type": "code",
   "execution_count": null,
   "metadata": {},
   "outputs": [],
   "source": [
    "coeff_array = np.rint(np.asarray(npstats[:, 3], dtype='float64')*1000)"
   ]
  },
  {
   "cell_type": "code",
   "execution_count": null,
   "metadata": {},
   "outputs": [],
   "source": [
    "coeff_occurrencies = np.zeros(500)\n",
    "\n",
    "for crow in coeff_array :\n",
    "    coeff_occurrencies[int(crow)] += 1 \n",
    "\n"
   ]
  },
  {
   "cell_type": "code",
   "execution_count": null,
   "metadata": {},
   "outputs": [],
   "source": [
    "import matplotlib.pyplot as plt\n",
    "\n",
    "#plt.hist(results_2D[:100,:])  # arguments are passed to np.histogram\n",
    "plt.bar(range(500), coeff_occurrencies)\n",
    "plt.title(\"Istogramma delle percentuali dei tag DIV rispetto alla conta totale dei tag\")\n",
    "plt.show()"
   ]
  },
  {
   "cell_type": "markdown",
   "metadata": {},
   "source": [
    "## Analisi risultati"
   ]
  },
  {
   "cell_type": "code",
   "execution_count": null,
   "metadata": {},
   "outputs": [],
   "source": [
    "import pandas as pd\n",
    "pages = np.load(\"rotten2000test.npy\")\n",
    "df = pd.DataFrame(data=pages)\n",
    "df"
   ]
  },
  {
   "cell_type": "code",
   "execution_count": null,
   "metadata": {},
   "outputs": [],
   "source": [
    "t1 = 0.23\n",
    "t2 = 0.30\n",
    "\n",
    "overI2 = df.loc[(df[3].astype(float) >= t2)][0].size\n",
    "T2 = df.loc[ (df[4] == \"2\")][0].size\n",
    "T2_relevant = df.loc[ (df[4] == \"2\") & (df[3].astype(float) >= t2)][0].size\n",
    "\n",
    "betweenI1_I2 = df.loc[(df[3].astype(float) < t2) & (df[3].astype(float) > t1) ][0].size\n",
    "T1 = df.loc[(df[4] == \"1\")][0].size\n",
    "T1_relevant = df.loc[((df[3].astype(float) < t2) & (df[3].astype(float) > t1)) & (df[4] == \"1\")][0].size\n",
    "\n",
    "\n",
    "underI1 = df.loc[(df[3].astype(float) <= t1)][0].size\n",
    "T0 = df.loc[(df[4] == \"0\")][0].size\n",
    "T0_relevant = df.loc[(df[3].astype(float) < t1) & (df[4] == \"0\")][0].size\n",
    "\n",
    "\n",
    "print(\"Sopra I2 : \"+str(overI2))\n",
    "print(\"Pagine Template 2 : \"+str(T2))\n",
    "print(\"Rilevanti Template 2 : \"+str(T2_relevant))\n",
    "print(\"\")\n",
    "print(\"Tra I1 e I2 : \"+str(betweenI1_I2))\n",
    "print(\"Pagine Template 1' : \"+str(T1))\n",
    "print(\"Rilevanti Template 1 : \"+str(T1_relevant))\n",
    "print(\"\")\n",
    "print(\"Sotto I1 : \"+str(underI1))\n",
    "print(\"Pagine Template 0 : \"+str(T0))\n",
    "print(\"Rilevanti Template 0 : \"+str(T0_relevant))\n",
    "print(\"\")\n",
    "print(\"Precision Template 2 : \"+ str(T2_relevant/overI2))\n",
    "print(\"Recall Template 2 : \"+ str(T2_relevant/T2))\n",
    "print(\"\")\n",
    "print(\"Precision Template 1 : \"+ str(T1_relevant/betweenI1_I2))\n",
    "print(\"Recall Template 1 : \"+ str(T1_relevant/T1))\n",
    "print(\"\")\n",
    "print(\"Precision Template 0 : \"+ str(T0_relevant/underI1))\n",
    "print(\"Recall Template 0 : \"+ str(T0_relevant/T0))"
   ]
  },
  {
   "cell_type": "code",
   "execution_count": null,
   "metadata": {},
   "outputs": [],
   "source": [
    "print(\"Precision Schede : \"+ str(int_schede/over23))\n",
    "print(\"Recall Schede : \"+ str(int_schede/schede))\n",
    "print(\"\")\n",
    "print(\"Precision Tags : \"+ str(int_tags/between21_23))\n",
    "print(\"Recall Tags : \"+ str(int_tags/tags))\n",
    "\n"
   ]
  },
  {
   "cell_type": "markdown",
   "metadata": {},
   "source": [
    "## Clustering"
   ]
  },
  {
   "cell_type": "code",
   "execution_count": null,
   "metadata": {},
   "outputs": [],
   "source": [
    "from sklearn.cluster import KMeans\n",
    "\n",
    "kmeans = KMeans(n_clusters=3)\n",
    "X = npstats[:,:3]\n",
    "kmeans.fit(X)\n",
    "y_kmeans = kmeans.predict(X)"
   ]
  },
  {
   "cell_type": "code",
   "execution_count": null,
   "metadata": {},
   "outputs": [],
   "source": [
    "import seaborn as sns; sns.set() \n",
    "\n",
    "plt.scatter(X[:, 0],, X[:, 2] X[:, 2], c=y_kmeans, s=50)\n",
    "\n",
    "#centers = kmeans.cluster_centers_\n",
    "#plt.scatter(centers[:, 0], centers[:, 1], c='black', s=200, alpha=0.5);"
   ]
  },
  {
   "cell_type": "code",
   "execution_count": null,
   "metadata": {},
   "outputs": [],
   "source": [
    "y_kmeans = y_kmeans.reshape((2212, 1))"
   ]
  },
  {
   "cell_type": "code",
   "execution_count": null,
   "metadata": {},
   "outputs": [],
   "source": [
    "print(npstats.shape)\n",
    "print(y_kmeans.shape)"
   ]
  },
  {
   "cell_type": "code",
   "execution_count": null,
   "metadata": {},
   "outputs": [],
   "source": [
    "np.set_printoptions(threshold=9999)\n",
    "results = np.append(npstats, y_kmeans, axis=1)"
   ]
  },
  {
   "cell_type": "code",
   "execution_count": null,
   "metadata": {},
   "outputs": [],
   "source": [
    "results"
   ]
  },
  {
   "cell_type": "code",
   "execution_count": null,
   "metadata": {},
   "outputs": [],
   "source": [
    "n_schede = df.loc[df[2].str.contains(\"/schede/\")].size\n",
    "n_tag = df.loc[df[2].str.contains(\"/tag/\")].size\n",
    "\n",
    "print(n_schede)\n",
    "print(n_tag)"
   ]
  },
  {
   "cell_type": "code",
   "execution_count": null,
   "metadata": {},
   "outputs": [],
   "source": [
    "n_ones = (df.loc[(df[3]) == \"0\"]).size\n",
    "print(n_ones)"
   ]
  }
 ],
 "metadata": {
  "kernelspec": {
   "display_name": "Python 3",
   "language": "python",
   "name": "python3"
  },
  "language_info": {
   "codemirror_mode": {
    "name": "ipython",
    "version": 3
   },
   "file_extension": ".py",
   "mimetype": "text/x-python",
   "name": "python",
   "nbconvert_exporter": "python",
   "pygments_lexer": "ipython3",
   "version": "3.5.6"
  }
 },
 "nbformat": 4,
 "nbformat_minor": 2
}
