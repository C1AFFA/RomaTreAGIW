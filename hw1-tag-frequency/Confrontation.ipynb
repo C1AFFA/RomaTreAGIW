{
 "cells": [
  {
   "cell_type": "code",
   "execution_count": 10,
   "metadata": {
    "scrolled": true
   },
   "outputs": [],
   "source": [
    "import numpy as np\n",
    "\n",
    "AW = np.load(\".\\\\results\\\\androidword.npy\")\n",
    "RT = np.load(\".\\\\results\\\\RottenPages.npy\")\n",
    "MC = np.load(\".\\\\results\\\\Metacritic.npy\")\n"
   ]
  },
  {
   "cell_type": "code",
   "execution_count": 13,
   "metadata": {},
   "outputs": [
    {
     "name": "stdout",
     "output_type": "stream",
     "text": [
      "[[0.99541197 0.99674579]\n",
      " [0.99118943 1.        ]\n",
      " [0.94117647 0.90909091]]\n",
      "[[0.99433107 0.98705684]\n",
      " [0.91240876 0.95785441]\n",
      " [0.95402299 0.95402299]]\n",
      "[[0.92897727 0.96650246]\n",
      " [0.9650924  0.92610837]]\n"
     ]
    }
   ],
   "source": [
    "print(AW)\n",
    "print(RT)\n",
    "print(MC)"
   ]
  },
  {
   "cell_type": "code",
   "execution_count": 48,
   "metadata": {},
   "outputs": [
    {
     "data": {
      "image/png": "[encoded data removed]",
      "text/plain": [
       "<Figure size 432x288 with 1 Axes>"
      ]
     },
     "metadata": {
      "needs_background": "light"
     },
     "output_type": "display_data"
    }
   ],
   "source": [
    "import matplotlib.pyplot as plt\n",
    "from matplotlib.dates import date2num\n",
    "import datetime\n",
    "\n",
    "x =  np.arange(3)\n",
    "y = [0.99541197, 0.99433107, 0.92897727]\n",
    "z=[0.99118943,0.91240876,0.9650924]\n",
    "k=[0.94117647,0.95402299 , 0]\n",
    "\n",
    "ax = plt.subplot(111)\n",
    "ax.bar(x -0.2, y,width=0.2,color='b',align='center')\n",
    "ax.bar(x, z,width=0.2,color='g',align='center')\n",
    "ax.bar(x +0.2 , k,width=0.2,color='r',align='center')\n",
    "plt.show()"
   ]
  },
  {
   "cell_type": "markdown",
   "metadata": {},
   "source": [
    "## grafico delle precision sui tre siti divisi per template\n",
    "- blu = androidword.com\n",
    "- verde = rottentomatoes.com\n",
    "- red = metacritic.com"
   ]
  },
  {
   "cell_type": "code",
   "execution_count": 49,
   "metadata": {},
   "outputs": [
    {
     "data": {
      "image/png": "[encoded data removed]",
      "text/plain": [
       "<Figure size 432x288 with 1 Axes>"
      ]
     },
     "metadata": {
      "needs_background": "light"
     },
     "output_type": "display_data"
    }
   ],
   "source": [
    "x =  np.arange(3)\n",
    "y = [0.99674579, 0.98705684, 0.96650246]\n",
    "z=[1,0.95785441,0.9650924]\n",
    "k=[0.90909091,0.95402299 , 0]\n",
    "\n",
    "ax = plt.subplot(111)\n",
    "ax.bar(x -0.2, y,width=0.2,color='b',align='center')\n",
    "ax.bar(x, z,width=0.2,color='g',align='center')\n",
    "ax.bar(x +0.2 , k,width=0.2,color='r',align='center')\n",
    "plt.show()"
   ]
  },
  {
   "cell_type": "markdown",
   "metadata": {},
   "source": [
    "### grafico delle recall in confronto sui tre siti divisi per template\n",
    "- blu = androidword.com\n",
    "- verde = rottentomatoes.com\n",
    "- red = metacritic.com"
   ]
  },
  {
   "cell_type": "code",
   "execution_count": 25,
   "metadata": {},
   "outputs": [
    {
     "data": {
      "text/plain": [
       "array([[0.99541197, 0.99118943, 0.94117647],\n",
       "       [0.99674579, 1.        , 0.90909091]])"
      ]
     },
     "execution_count": 25,
     "metadata": {},
     "output_type": "execute_result"
    }
   ],
   "source": [
    "import numpy as np\n",
    "\n",
    "AWt = np.transpose(AW)\n",
    "AWt"
   ]
  },
  {
   "cell_type": "code",
   "execution_count": 40,
   "metadata": {},
   "outputs": [
    {
     "data": {
      "image/png": "[encoded data removed]",
      "text/plain": [
       "<Figure size 432x288 with 1 Axes>"
      ]
     },
     "metadata": {
      "needs_background": "light"
     },
     "output_type": "display_data"
    }
   ],
   "source": [
    "AWt = np.transpose(AW)\n",
    "x =  np.arange(3)\n",
    "\n",
    "y = AWt[0]\n",
    "z=AWt[1]\n",
    "\n",
    "ax = plt.subplot(111)\n",
    "ax.bar(x -0.2, y,width=0.2,color='r',align='center')\n",
    "ax.bar(x, z,width=0.2,color='g',align='center')\n",
    "plt.show()"
   ]
  },
  {
   "cell_type": "code",
   "execution_count": 47,
   "metadata": {},
   "outputs": [
    {
     "data": {
      "image/png": "[encoded data removed]",
      "text/plain": [
       "<Figure size 432x288 with 1 Axes>"
      ]
     },
     "metadata": {
      "needs_background": "light"
     },
     "output_type": "display_data"
    }
   ],
   "source": [
    "RTt = np.transpose(RT)\n",
    "\n",
    "x =  np.arange(3)\n",
    "\n",
    "y = RTt[0]\n",
    "z=RTt[1]\n",
    "\n",
    "ax = plt.subplot(111)\n",
    "ax.bar(x -0.2, y,width=0.2,color='r',align='center')\n",
    "ax.bar(x, z,width=0.2,color='g',align='center')\n",
    "plt.show()"
   ]
  },
  {
   "cell_type": "code",
   "execution_count": 43,
   "metadata": {},
   "outputs": [
    {
     "data": {
      "image/png": "[encoded data removed]",
      "text/plain": [
       "<Figure size 432x288 with 1 Axes>"
      ]
     },
     "metadata": {
      "needs_background": "light"
     },
     "output_type": "display_data"
    }
   ],
   "source": [
    "MCt = np.transpose(MC)\n",
    "\n",
    "x =  np.arange(2)\n",
    "\n",
    "y = MCt[0]\n",
    "z=MCt[1]\n",
    "\n",
    "ax = plt.subplot(111)\n",
    "ax.bar(x -0.2, y,width=0.2,color='r',align='center')\n",
    "ax.bar(x, z,width=0.2,color='g',align='center')\n",
    "plt.show()"
   ]
  },
  {
   "cell_type": "code",
   "execution_count": null,
   "metadata": {},
   "outputs": [],
   "source": []
  }
 ],
 "metadata": {
  "kernelspec": {
   "display_name": "Python 3",
   "language": "python",
   "name": "python3"
  },
  "language_info": {
   "codemirror_mode": {
    "name": "ipython",
    "version": 3
   },
   "file_extension": ".py",
   "mimetype": "text/x-python",
   "name": "python",
   "nbconvert_exporter": "python",
   "pygments_lexer": "ipython3",
   "version": "3.5.6"
  }
 },
 "nbformat": 4,
 "nbformat_minor": 2
}
