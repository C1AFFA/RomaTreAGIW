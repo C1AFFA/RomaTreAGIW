{
 "cells": [
  {
   "cell_type": "code",
   "execution_count": null,
   "metadata": {},
   "outputs": [],
   "source": [
    "from bs4 import BeautifulSoup\n",
    "import requests\n",
    "import numpy as np\n",
    "import time\n"
   ]
  },
  {
   "cell_type": "code",
   "execution_count": null,
   "metadata": {},
   "outputs": [],
   "source": [
    "r = requests.get('https://www.androidworld.it/sitemap_index.xml') #URL della sitemap del sito target\n",
    "xml = r.text\n",
    "\n",
    "soup = BeautifulSoup(xml)\n",
    "sitemapTags = soup.find_all(\"loc\")\n",
    "pages = np.array([])\n",
    "\n",
    "for sitemap in sitemapTags:\n",
    "    print(\"calling \"+sitemap.string )\n",
    "    r_inner = requests.get(sitemap.string)\n",
    "    xml_inner = r_inner.text\n",
    "    soup_inner = BeautifulSoup(xml_inner)\n",
    "    sitemapTags_inner = soup_inner.find_all(\"loc\")\n",
    "    for s in sitemapTags_inner:        \n",
    "        pages  = np.append(pages, s.string)\n",
    "    time.sleep(0.5) #attendi mezzo secondo tra una richiesta ed un'altra\n",
    "    print(pages.size)\n",
    "\n",
    "    \n"
   ]
  },
  {
   "cell_type": "code",
   "execution_count": null,
   "metadata": {},
   "outputs": [],
   "source": [
    "r = requests.get('https://www.rottentomatoes.com/sitemap_64.xml') #URL della sitemap del sito target\n",
    "xml = r.text\n",
    "soup = BeautifulSoup(xml)\n",
    "sitemapTags = soup.find_all(\"loc\")\n",
    "pages = np.array([])\n",
    "\n",
    "for page in sitemapTags:\n",
    "    template_type \n",
    "    pages  = np.append(pages, [page.string , template_type])"
   ]
  },
  {
   "cell_type": "code",
   "execution_count": null,
   "metadata": {},
   "outputs": [],
   "source": [
    "print(pages.size)"
   ]
  },
  {
   "cell_type": "code",
   "execution_count": null,
   "metadata": {},
   "outputs": [],
   "source": [
    "np.save('pages.npy', pages)    # .npy extension is added if not given\n",
    "#d = np.load('pages.npy')https://www.androidworld.it/mt_device-sitemap3.xml"
   ]
  },
  {
   "cell_type": "code",
   "execution_count": null,
   "metadata": {},
   "outputs": [],
   "source": [
    "d = np.load('pages.npy')\n",
    "d.size"
   ]
  },
  {
   "cell_type": "code",
   "execution_count": null,
   "metadata": {},
   "outputs": [],
   "source": [
    "np.random.shuffle(d)\n",
    "np.save('shuffledPages.npy', d)"
   ]
  },
  {
   "cell_type": "markdown",
   "metadata": {},
   "source": [
    "## Download pages\n",
    "\n",
    "Procediamo a scaricare le pagine e a salvarle per la successiva analisi. Costituiranno il nostro dataset."
   ]
  },
  {
   "cell_type": "code",
   "execution_count": null,
   "metadata": {},
   "outputs": [],
   "source": [
    "index = 4902\n",
    "for page in d:\n",
    "    resp = requests.get(page)\n",
    "    html = resp.content.decode(\"utf-8\")\n",
    "    print(index)\n",
    "    f = open(\".\\\\pages\\\\\"+str(index)+'.html', 'w' , encoding='utf-8')\n",
    "    f.write(html)\n",
    "    f.close\n",
    "    index += 1\n",
    "    time.sleep(0.5) #intervallo di tempo per non incorrere in filtri anti DDOS\n",
    "    "
   ]
  },
  {
   "cell_type": "markdown",
   "metadata": {},
   "source": [
    "## Features per il clustering\n",
    "\n",
    "Possiamo individuare più features che possono aiutarci nel modellare lo spazio da analizzare con un algoritmo di clustering:\n",
    "- Conta dei tag\n",
    "- occorrenze dei diversi tag\n",
    "- Rapporto tra token totali nel testo e token di tipo tag\n",
    "- Informazioni nell'head della pagina\n",
    "- URLs (la più sicura probabilmente)"
   ]
  }
 ],
 "metadata": {
  "kernelspec": {
   "display_name": "Python 3",
   "language": "python",
   "name": "python3"
  },
  "language_info": {
   "codemirror_mode": {
    "name": "ipython",
    "version": 3
   },
   "file_extension": ".py",
   "mimetype": "text/x-python",
   "name": "python",
   "nbconvert_exporter": "python",
   "pygments_lexer": "ipython3",
   "version": "3.5.6"
  }
 },
 "nbformat": 4,
 "nbformat_minor": 2
}
